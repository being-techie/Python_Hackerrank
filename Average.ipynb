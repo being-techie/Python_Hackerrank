{
  "nbformat": 4,
  "nbformat_minor": 0,
  "metadata": {
    "colab": {
      "name": "Average.ipynb",
      "provenance": [],
      "authorship_tag": "ABX9TyM+No9uJZP8LFElj4esauk5"
    },
    "kernelspec": {
      "name": "python3",
      "display_name": "Python 3"
    },
    "language_info": {
      "name": "python"
    }
  },
  "cells": [
    {
      "cell_type": "code",
      "metadata": {
        "id": "UguOL8aMAJ0G"
      },
      "source": [
        "\"\"\"The provided code stub will read in a dictionary containing key/value pairs of name:[marks] for a list of students. Print the average of the marks array for the student name provided, showing 2 places after the decimal.\n",
        "Example\n",
        "The query_name is 'beta'. beta's average score is .\n",
        "Input Format\n",
        "The first line contains the integer , the number of students' records. The next  lines contain the names and marks obtained by a student, each value separated by a space. The final line contains query_name, the name of a student to query.\n",
        "Constraints\n",
        "Output Format\n",
        "Print one line: The average of the marks obtained by the particular student correct to 2 decimal places.\n",
        "Sample Input 0\n",
        "3\n",
        "Krishna 67 68 69\n",
        "Arjun 70 98 63\n",
        "Malika 52 56 60\n",
        "Malika\n",
        "Sample Output 0\n",
        "56.00\n",
        "Explanation 0\n",
        "Marks for Malika are  whose average is \n",
        "Sample Input 1\n",
        "2\n",
        "Harsh 25 26.5 28\n",
        "Anurag 26 28 30\n",
        "Harsh\n",
        "Sample Output 1\n",
        "26.50\"\"\""
      ],
      "execution_count": null,
      "outputs": []
    },
    {
      "cell_type": "code",
      "metadata": {
        "colab": {
          "base_uri": "https://localhost:8080/"
        },
        "id": "PAAGXeCy512l",
        "outputId": "40aae6f3-9fa9-418e-d5b1-9868c51c9254"
      },
      "source": [
        "n = int(input())\n",
        "student_marks = {}                                       //empty dictionary\n",
        "count=0                         \n",
        "average=float()                                          //used in storing the average \n",
        "for _ in range(n):                                       //for loops are traditionally used when you have a block of code which you want to repeat a fixed number of times.\n",
        "    name, *line = input().split()                        //* collects all the positional arguments in a tuple. ** collects all the keyword arguments in a dictionary. ... * unpacks a list or tuple into position arguments.\n",
        "    scores = list(map(float, line))\n",
        "    student_marks[name] = scores                         //map function is used for mapping\n",
        "query_name = input()\n",
        "for i in student_marks[query_name]:                      //doing looping for fetching each name value\n",
        " count += i\n",
        "average = count / len(student_marks[query_name])         //fetching the name and then calculating the average\n",
        "print(\"%.2f\" %average)                                   //Getting the average"
      ],
      "execution_count": 5,
      "outputs": [
        {
          "output_type": "stream",
          "text": [
            "2\n",
            "ram 67.8 98.7 65.8\n",
            "pinki 67.8 89.7 67.9\n",
            "ram\n",
            "77.43\n"
          ],
          "name": "stdout"
        }
      ]
    },
    {
      "cell_type": "markdown",
      "metadata": {
        "id": "4TNPwcXK9BQ3"
      },
      "source": [
        "**The underscore is also used for ignoring the specific values. If you don’t need the specific values or the values are not used, just assign the values to underscore.**\n",
        "\n",
        "**split():This function helps in getting a multiple inputs from user. It breaks the given input by the specified separator.**\n",
        "\n",
        "** * collects all the positional arguments in a tuple. ** collects all the keyword arguments in a dictionary. ... * unpacks a list or tuple into position arguments.**"
      ]
    }
  ]
}