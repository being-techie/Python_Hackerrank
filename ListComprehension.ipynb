{
  "nbformat": 4,
  "nbformat_minor": 0,
  "metadata": {
    "colab": {
      "name": "Untitled0.ipynb",
      "provenance": [],
      "authorship_tag": "ABX9TyPsy7aIeKw3PLQEfNTBeJKm",
      "include_colab_link": true
    },
    "kernelspec": {
      "name": "python3",
      "display_name": "Python 3"
    },
    "language_info": {
      "name": "python"
    }
  },
  "cells": [
    {
      "cell_type": "markdown",
      "metadata": {
        "id": "view-in-github",
        "colab_type": "text"
      },
      "source": [
        "<a href=\"https://colab.research.google.com/github/being-techie/Python_Hackerrank/blob/main/ListComprehension.ipynb\" target=\"_parent\"><img src=\"https://colab.research.google.com/assets/colab-badge.svg\" alt=\"Open In Colab\"/></a>"
      ]
    },
    {
      "cell_type": "code",
      "metadata": {
        "id": "WWLoOBRbQJbQ"
      },
      "source": [
        "# List Comprehensions\n",
        "\n",
        "# Let's learn about list comprehensions! You are given three integers X, Y and Z representing the dimensions of a cuboid along with an\n",
        "# integer N. You have to print a list of all possible coordinates given by (i, j, k) on a 3D grid where the sum of i + j + k  is not\n",
        "# equal to N. Here, 0 <= i <= X; 0 <= j <= Y; 0 <= k <= Z \n",
        "\n",
        "# Input Format\n",
        "# Four integers X, Y, Z and N each on four separate lines, respectively.\n",
        "\n",
        "# Constraints\n",
        "# Print the list in lexicographic increasing order.\n",
        "\n",
        "# Sample Input\n",
        "# 1\n",
        "# 1\n",
        "# 1\n",
        "# 2\n",
        "\n",
        "# Sample Output\n",
        "# [[0, 0, 0], [0, 0, 1], [0, 1, 0], [1, 0, 0], [1, 1, 1]]"
      ],
      "execution_count": 1,
      "outputs": []
    },
    {
      "cell_type": "code",
      "metadata": {
        "colab": {
          "base_uri": "https://localhost:8080/"
        },
        "id": "QePvcFYNRNY7",
        "outputId": "ca4f78f4-d175-4ce4-cca0-e5b96b71631f"
      },
      "source": [
        "X = int(input())\n",
        "Y = int(input())\n",
        "Z = int(input())\n",
        "N = int(input())\n",
        "    \n",
        "X += 1\n",
        "Y += 1\n",
        "Z += 1\n",
        "\n",
        "ans = [[x, y, z] for x in range(X)\n",
        " for y in range(Y) \n",
        " for z in range(Z)\n",
        "  if x + y + z != N]\n",
        "print(ans)"
      ],
      "execution_count": 2,
      "outputs": [
        {
          "output_type": "stream",
          "text": [
            "2\n",
            "3\n",
            "4\n",
            "7\n",
            "[[0, 0, 0], [0, 0, 1], [0, 0, 2], [0, 0, 3], [0, 0, 4], [0, 1, 0], [0, 1, 1], [0, 1, 2], [0, 1, 3], [0, 1, 4], [0, 2, 0], [0, 2, 1], [0, 2, 2], [0, 2, 3], [0, 2, 4], [0, 3, 0], [0, 3, 1], [0, 3, 2], [0, 3, 3], [1, 0, 0], [1, 0, 1], [1, 0, 2], [1, 0, 3], [1, 0, 4], [1, 1, 0], [1, 1, 1], [1, 1, 2], [1, 1, 3], [1, 1, 4], [1, 2, 0], [1, 2, 1], [1, 2, 2], [1, 2, 3], [1, 3, 0], [1, 3, 1], [1, 3, 2], [1, 3, 4], [2, 0, 0], [2, 0, 1], [2, 0, 2], [2, 0, 3], [2, 0, 4], [2, 1, 0], [2, 1, 1], [2, 1, 2], [2, 1, 3], [2, 2, 0], [2, 2, 1], [2, 2, 2], [2, 2, 4], [2, 3, 0], [2, 3, 1], [2, 3, 3], [2, 3, 4]]\n"
          ],
          "name": "stdout"
        }
      ]
    }
  ]
}