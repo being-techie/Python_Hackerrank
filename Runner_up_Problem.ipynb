{
  "nbformat": 4,
  "nbformat_minor": 0,
  "metadata": {
    "colab": {
      "name": "Untitled0.ipynb",
      "provenance": [],
      "authorship_tag": "ABX9TyPaFc1bDwhYlZVPkzysYhPd"
    },
    "kernelspec": {
      "name": "python3",
      "display_name": "Python 3"
    },
    "language_info": {
      "name": "python"
    }
  },
  "cells": [
    {
      "cell_type": "code",
      "metadata": {
        "id": "OFiEYcIM5ReB"
      },
      "source": [
        "\"\"\"\n",
        "Given the participants' score sheet for your University Sports Day, you are required to find the runner-up score. \n",
        "You are given n scores. Store them in a list and find the score of the runner-up.\n",
        "\n",
        "Input Format:\n",
        "The first line contains n. The second line contains an array A[] of n integers each separated by a space.\n",
        "Output Format:\n",
        "Print the runner-up score.\n",
        "\n",
        "Sample Input:\n",
        "5\n",
        "2 3 6 6 5\n",
        "Sample Output:\n",
        "5\n",
        "\"\"\""
      ],
      "execution_count": null,
      "outputs": []
    },
    {
      "cell_type": "markdown",
      "metadata": {
        "id": "cmDH3tHV5VwT"
      },
      "source": [
        "**Solution 1:**"
      ]
    },
    {
      "cell_type": "code",
      "metadata": {
        "colab": {
          "base_uri": "https://localhost:8080/"
        },
        "id": "mNZMt-mg494B",
        "outputId": "5fbe6f66-56df-491f-8d15-d3e364141155"
      },
      "source": [
        "n = int(input())\n",
        "arr = map(int, input().split())\n",
        "x = set(arr)\n",
        "x = list(x)\n",
        "x.sort(reverse=True)\n",
        "print(x[1])"
      ],
      "execution_count": 3,
      "outputs": [
        {
          "output_type": "stream",
          "text": [
            "7\n",
            "2 3 19 4 15 6 34 \n",
            "19\n"
          ],
          "name": "stdout"
        }
      ]
    },
    {
      "cell_type": "markdown",
      "metadata": {
        "id": "7RXiO_aR7h2d"
      },
      "source": [
        "------> map() is useful when you need to apply a transformation function to each item in an iterable and transform them into a new iterable."
      ]
    },
    {
      "cell_type": "markdown",
      "metadata": {
        "id": "3B0CQ7TN7qiy"
      },
      "source": [
        "----->  The sort() method sorts the elements of a given list in a specific ascending or descending order."
      ]
    },
    {
      "cell_type": "markdown",
      "metadata": {
        "id": "KksNG9xY5acu"
      },
      "source": [
        "**Solution: 2**"
      ]
    },
    {
      "cell_type": "code",
      "metadata": {
        "colab": {
          "base_uri": "https://localhost:8080/"
        },
        "id": "fkNMvjRk5O3A",
        "outputId": "838dd13c-1a13-429c-fd2f-9fe618038598"
      },
      "source": [
        "import heapq\n",
        "n = int(input())\n",
        "arr = set(map(int, input().split()))\n",
        "a = heapq.nlargest(2, arr)\n",
        "print(a[1])"
      ],
      "execution_count": 2,
      "outputs": [
        {
          "output_type": "stream",
          "text": [
            "5\n",
            "2 3 4 6 7 8\n",
            "7\n"
          ],
          "name": "stdout"
        }
      ]
    },
    {
      "cell_type": "markdown",
      "metadata": {
        "id": "3ckd1Tr97H-J"
      },
      "source": [
        "-----> Heap data structure is mainly used to represent a priority queue.\n",
        " In Python, it is available using “heapq” module. The property of this data structure in Python is that each time the smallest of heap element is popped(min heap). \n",
        "Whenever elements are pushed or popped, heap structure in maintained. The heap[0] element also returns the smallest element each time."
      ]
    },
    {
      "cell_type": "markdown",
      "metadata": {
        "id": "EVikwvN-6_A-"
      },
      "source": [
        "-----> The nlargest() function of the Python module heapq returns the specified number of largest elements from a Python iterable like a list, tuple and others. The function nlargest() can also be passed a key function that returns a comparison key to be used in the sorting."
      ]
    }
  ]
}