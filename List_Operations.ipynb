{
  "nbformat": 4,
  "nbformat_minor": 0,
  "metadata": {
    "colab": {
      "name": "Untitled2.ipynb",
      "provenance": [],
      "authorship_tag": "ABX9TyMj8YicHPF4mCA5SvziceCO"
    },
    "kernelspec": {
      "name": "python3",
      "display_name": "Python 3"
    },
    "language_info": {
      "name": "python"
    }
  },
  "cells": [
    {
      "cell_type": "code",
      "metadata": {
        "id": "40s1RkZ47Eeo"
      },
      "source": [
        ""
      ],
      "execution_count": null,
      "outputs": []
    },
    {
      "cell_type": "markdown",
      "metadata": {
        "id": "A5t0xuwb7K_2"
      },
      "source": [
        "**`Solution` :1**"
      ]
    },
    {
      "cell_type": "markdown",
      "metadata": {
        "id": "8E4BwZ9KA0b3"
      },
      "source": [
        "# Lists\n",
        "\n",
        "# Consider a list (list = []). You can perform the following commands:\n",
        "# insert i e: Insert integer e at position i.\n",
        "# print: Print the list.\n",
        "# remove e: Delete the first occurrence of integer e.\n",
        "# append e: Insert integer e at the end of the list.\n",
        "# sort: Sort the list.\n",
        "# pop: Pop the last element from the list.\n",
        "# reverse: Reverse the list.\n",
        "\n",
        "# Initialize your list and read in the value of n followed by n lines of commands where each command will be of the types listed above.\n",
        "# Iterate through each command in order and perform the corresponding operation on your list.\n",
        "\n",
        "# Input Format\n",
        "# The first line contains an integer, n, denoting the number of commands. \n",
        "# Each line i of the n subsequent lines contains one of the commands described above.\n",
        "\n",
        "# Constraints\n",
        "# The elements added to the list must be integers.\n",
        "\n",
        "# Output Format\n",
        "# For each command of type print, print the list on a new line."
      ]
    },
    {
      "cell_type": "code",
      "metadata": {
        "colab": {
          "base_uri": "https://localhost:8080/"
        },
        "id": "0hazKKLu7Myz",
        "outputId": "328532b4-7d40-4718-9261-f6616a6f5a72"
      },
      "source": [
        "N = int(input())\n",
        "l = list()\n",
        "\n",
        "for _ in range(N):\n",
        "        query = input().split()\n",
        "        if query[0] == \"print\":\n",
        "            print(l)\n",
        "        elif query[0] == \"insert\":\n",
        "            l.insert(int(query[1]), int(query[2]))\n",
        "        elif query[0] == \"remove\":\n",
        "            l.remove(int(query[1]))\n",
        "        elif query[0] == \"append\":\n",
        "            l.append(int(query[1]))\n",
        "        elif query[0] == \"sort\":\n",
        "            l = sorted(l)\n",
        "        elif query[0] == \"pop\":\n",
        "            l.pop()\n",
        "        elif query[0] == \"reverse\":\n",
        "            l.reverse()"
      ],
      "execution_count": 1,
      "outputs": [
        {
          "output_type": "stream",
          "text": [
            "12\n",
            "insert 0 5\n",
            "insert 1 10\n",
            "insert 0 6\n",
            "print\n",
            "[6, 5, 10]\n",
            "remove 6\n",
            "append 9\n",
            "append 1 \n",
            "sort\n",
            "print\n",
            "[1, 5, 9, 10]\n",
            "pop\n",
            "reverse\n",
            "print\n",
            "[9, 5, 1]\n"
          ],
          "name": "stdout"
        }
      ]
    }
  ]
}