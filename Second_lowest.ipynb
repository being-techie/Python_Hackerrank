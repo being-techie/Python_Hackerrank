{
  "nbformat": 4,
  "nbformat_minor": 0,
  "metadata": {
    "colab": {
      "name": "Untitled3.ipynb",
      "provenance": [],
      "authorship_tag": "ABX9TyNv5gOOdHpqGqL3lGtVITj9"
    },
    "kernelspec": {
      "name": "python3",
      "display_name": "Python 3"
    },
    "language_info": {
      "name": "python"
    }
  },
  "cells": [
    {
      "cell_type": "markdown",
      "metadata": {
        "id": "cy8GS8pqiSOs"
      },
      "source": [
        "Given the names and grades for each student in a class of  students, store them in a nested list and print the name(s) of any student(s) having the second lowest grade.\n",
        "\n",
        "Note: If there are multiple students with the second lowest grade, order their names alphabetically and print each name on a new line.\n",
        "\n",
        "Example\n",
        "records=[[\"chi\":20.0],[\"beta\" :50.0],[\"alpha\" :50.0]]\n",
        "\n",
        "The ordered list of scores is [20.0,50.0], so the second lowest score is 50.0 . There are two students with that score: . Ordered alphabetically, the names are printed as:\n",
        "\n",
        "alpha\n",
        "beta\n",
        "Input Format\n",
        "\n",
        "The first line contains an integer, , the number of students.\n",
        "The  subsequent lines describe each student over  lines.\n",
        "- The first line contains a student's name.\n",
        "- The second line contains their grade."
      ]
    },
    {
      "cell_type": "markdown",
      "metadata": {
        "id": "eF46K271h8Si"
      },
      "source": [
        ""
      ]
    },
    {
      "cell_type": "code",
      "metadata": {
        "id": "HfLAedEoh4dK"
      },
      "source": [
        "n=int(input())\n",
        "arr=[[input(),float(input())] for _ in range(0,n)]\n",
        "arr.sort(key=lambda x: (x[1],x[0]))\n",
        "names = [i[0] for i in arr]\n",
        "marks = [i[1] for i in arr]\n",
        "min_val=min(marks)\n",
        "while marks[0]==min_val:\n",
        "    marks.remove(marks[0])\n",
        "    names.remove(names[0])    \n",
        "for x in range(0,len(marks)):\n",
        "    if marks[x]==min(marks):\n",
        "        print(names[x])\n"
      ],
      "execution_count": null,
      "outputs": []
    }
  ]
}